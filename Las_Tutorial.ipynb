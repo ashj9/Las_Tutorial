{
 "cells": [
  {
   "cell_type": "code",
   "execution_count": 1,
   "metadata": {
    "collapsed": true
   },
   "outputs": [],
   "source": [
    "import numpy as np\n",
    "import pdal\n",
    "import numpy as np\n",
    "from open3d import *\n",
    "from global_registration import *\n",
    "import copy\n",
    "import time\n",
    "from laspy.file import File"
   ]
  },
  {
   "cell_type": "code",
   "execution_count": 27,
   "metadata": {
    "collapsed": true
   },
   "outputs": [],
   "source": [
    "# reading file\n",
    "\n",
    "from laspy.file import File\n",
    "import numpy as np\n",
    "inFile = File('ot_c738000_4197000.las', mode='r')\n",
    "points = inFile.points"
   ]
  },
  {
   "cell_type": "code",
   "execution_count": 5,
   "metadata": {},
   "outputs": [
    {
     "name": "stdout",
     "output_type": "stream",
     "text": [
      "[73875029 73875010 73874992 73874974 73874957 73874940 73874921 73874904\n",
      " 73874886 73874878]\n",
      "[738750.29 738750.1  738749.92 738749.74 738749.57 738749.4  738749.21\n",
      " 738749.04 738748.86 738748.78]\n",
      "(857849,)\n"
     ]
    }
   ],
   "source": [
    "def scaled_dimension(las_file):\n",
    "    X_dim = las_file.X\n",
    "    x_dim = las_file.x\n",
    "    z_dim = las_file.z\n",
    "    \n",
    "#     print(z_dim[0:100])\n",
    "    \n",
    "    print(X_dim[0:10])\n",
    "    print(x_dim[0:10])\n",
    "    \n",
    "    print(np.shape(x_dim))\n",
    "    scale = las_file.header.scale[0]\n",
    "    offset = las_file.header.offset[0]\n",
    "    return(x_dim * scale + offset)\n",
    "\n",
    "scaled_x = scaled_dimension(inFile)"
   ]
  },
  {
   "cell_type": "code",
   "execution_count": 6,
   "metadata": {},
   "outputs": [
    {
     "name": "stdout",
     "output_type": "stream",
     "text": [
      "X\n",
      "Y\n",
      "Z\n",
      "intensity\n",
      "flag_byte\n",
      "raw_classification\n",
      "scan_angle_rank\n",
      "user_data\n",
      "pt_src_id\n",
      "gps_time\n"
     ]
    }
   ],
   "source": [
    "pointformat = inFile.point_format\n",
    "\n",
    "for spec in inFile.point_format:\n",
    "#     pass\n",
    "    print(spec.name)"
   ]
  },
  {
   "cell_type": "code",
   "execution_count": 7,
   "metadata": {
    "collapsed": true
   },
   "outputs": [],
   "source": [
    "# get the points\n",
    "def get_points(file):\n",
    "    x, y, z = file.x, file.y, file.z\n",
    "    points = np.vstack((x,y,z)).T\n",
    "    return points"
   ]
  },
  {
   "cell_type": "code",
   "execution_count": null,
   "metadata": {
    "collapsed": true
   },
   "outputs": [],
   "source": [
    "#printing the header"
   ]
  },
  {
   "cell_type": "code",
   "execution_count": 28,
   "metadata": {},
   "outputs": [
    {
     "name": "stdout",
     "output_type": "stream",
     "text": [
      "file_sig\n",
      "file_source_id\n",
      "global_encoding\n",
      "proj_id_1\n",
      "proj_id_2\n",
      "proj_id_3\n",
      "proj_id_4\n",
      "version_major\n",
      "version_minor\n",
      "system_id\n",
      "software_id\n",
      "created_day\n",
      "created_year\n",
      "header_size\n",
      "data_offset\n",
      "num_variable_len_recs\n",
      "data_format_id\n",
      "data_record_length\n",
      "point_records_count\n",
      "point_return_count\n",
      "x_scale\n",
      "y_scale\n",
      "z_scale\n",
      "x_offset\n",
      "y_offset\n",
      "z_offset\n",
      "x_max\n",
      "x_min\n",
      "y_max\n",
      "y_min\n",
      "z_max\n",
      "z_min\n"
     ]
    }
   ],
   "source": [
    "header_format = inFile.header.header_format\n",
    "for spec in header_format:\n",
    "    print(spec.name)\n",
    "    \n",
    "header = inFile.header"
   ]
  },
  {
   "cell_type": "code",
   "execution_count": 29,
   "metadata": {},
   "outputs": [
    {
     "name": "stdout",
     "output_type": "stream",
     "text": [
      "Min x: 458029.36, Max x: 458200.0\n",
      "Min y: 179399.98, Max y: 179600.02\n",
      "Min z: 94.16, Max z: 357.5\n",
      "Offsets: -0.0\n"
     ]
    }
   ],
   "source": [
    "# printing the maxx and min cordinates and their offsets\n",
    "print('Min x: {}, Max x: {}'.format(header.min[0], header.max[0]))\n",
    "print('Min y: {}, Max y: {}'.format(header.min[1], header.max[1]))\n",
    "print('Min z: {}, Max z: {}'.format(header.min[2], header.max[2]))\n",
    "\n",
    " \n",
    "print('Offsets: {}'.format(header.offset[0]))"
   ]
  }
 ],
 "metadata": {
  "kernelspec": {
   "display_name": "tf",
   "language": "python",
   "name": "tf"
  },
  "language_info": {
   "codemirror_mode": {
    "name": "ipython",
    "version": 3
   },
   "file_extension": ".py",
   "mimetype": "text/x-python",
   "name": "python",
   "nbconvert_exporter": "python",
   "pygments_lexer": "ipython3",
   "version": "3.6.8"
  }
 },
 "nbformat": 4,
 "nbformat_minor": 2
}
